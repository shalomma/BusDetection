{
 "cells": [
  {
   "cell_type": "code",
   "execution_count": 1,
   "metadata": {},
   "outputs": [
    {
     "name": "stderr",
     "output_type": "stream",
     "text": [
      "/home/sha_maayan/python-environments/env/lib/python3.5/site-packages/h5py/__init__.py:36: FutureWarning: Conversion of the second argument of issubdtype from `float` to `np.floating` is deprecated. In future, it will be treated as `np.float64 == np.dtype(float).type`.\n",
      "  from ._conv import register_converters as _register_converters\n"
     ]
    }
   ],
   "source": [
    "from tensorflow.contrib.tensorboard.plugins import projector\n",
    "import os\n",
    "import tensorflow as tf\n",
    "import numpy as np\n",
    "import pandas as pd\n",
    "import cv2 as cv"
   ]
  },
  {
   "cell_type": "code",
   "execution_count": 2,
   "metadata": {},
   "outputs": [],
   "source": [
    "LOGDIR = os.path.join(os.getcwd(), \"logs/models/\")\n",
    "LABELS = os.path.join(os.getcwd(), \"labels.tsv\")\n",
    "\n",
    "PATH_TO_CROPPED_IMAGES = '../images/cropped/'\n",
    "PATH_TO_LABELS = '../annotations/cropped_color_label.csv'\n",
    "CLASSES = 6\n",
    "H, W, CH = 36, 64, 3"
   ]
  },
  {
   "cell_type": "code",
   "execution_count": 3,
   "metadata": {},
   "outputs": [
    {
     "name": "stdout",
     "output_type": "stream",
     "text": [
      "Shape of X: (104, 36, 64, 3)\n"
     ]
    }
   ],
   "source": [
    "df = pd.read_csv(PATH_TO_LABELS)\n",
    "X = []\n",
    "y = []\n",
    "for _, row in df.iterrows():\n",
    "    img = cv.imread(os.path.join(PATH_TO_CROPPED_IMAGES, row['filename']))\n",
    "    img = cv.cvtColor(img, cv.COLOR_BGR2RGB)\n",
    "    img = cv.resize(img, (W, H))\n",
    "    X.append(img)\n",
    "    y.append(row['label'])\n",
    "\n",
    "X = np.asarray(X)\n",
    "y = np.asarray(y)\n",
    "\n",
    "print('Shape of X: {}'.format(X.shape))"
   ]
  },
  {
   "cell_type": "code",
   "execution_count": 4,
   "metadata": {},
   "outputs": [],
   "source": [
    "# Note: Must be very consistent in naming, checkpoint file has to be named the same thing as tensor (I think)\n",
    "pred_probs = tf.Variable(X, name='pred_probs')\n",
    " \n",
    "# metadata_path = os.path.join(log_dir, 'metadata.tsv')\n",
    "# metadata_cols = ['title', 'class']\n",
    "# with open(metadata_path, 'w') as met_fi:\n",
    "#     met_fi.write('%s\\n' % '\\t'.join(metadata_cols))\n",
    "#     for rn in range(act_res.shape[0]):\n",
    "#         cur_col = [all_titles[rn], '%d' % act_res[rn]]\n",
    "#         met_fi.write('%s\\n' % '\\t'.join(cur_col))\n",
    " \n",
    "config = projector.ProjectorConfig()\n",
    "embedding = config.embeddings.add()\n",
    "embedding.tensor_name = pred_probs.name\n",
    "embedding.metadata_path = LABELS"
   ]
  },
  {
   "cell_type": "code",
   "execution_count": 5,
   "metadata": {},
   "outputs": [],
   "source": [
    "# # Use the same LOG_DIR where you stored your checkpoint.\n",
    "# init_op = tf.variables_initializer([pred_probs])\n",
    "# with tf.Session() as sess:\n",
    "#     sess.run(init_op)\n",
    "#     saver = tf.train.Saver({'pred_probs': pred_probs})\n",
    "#     saver.save(sess, os.path.join(LOGDIR, \"model.ckpt-0600\"))\n",
    " \n",
    "#     summary_writer = tf.summary.FileWriter(LOGDIR)\n",
    " \n",
    "#     # The next line writes a projector_config.pbtxt in the LOG_DIR. TensorBoard will\n",
    "#     # read this file during startup.\n",
    "#     projector.visualize_embeddings(summary_writer, config)"
   ]
  },
  {
   "cell_type": "code",
   "execution_count": 6,
   "metadata": {},
   "outputs": [],
   "source": [
    "features = tf.Variable(X, name='features')\n",
    "\n",
    "with tf.Session() as sess:\n",
    "    saver = tf.train.Saver([features])\n",
    "\n",
    "    sess.run(features.initializer)\n",
    "    saver.save(sess, os.path.join(LOGDIR, 'model.ckpt'))\n",
    "    \n",
    "    config = projector.ProjectorConfig()\n",
    "    # One can add multiple embeddings.\n",
    "    embedding = config.embeddings.add()\n",
    "    embedding.tensor_name = features.name\n",
    "    # Link this tensor to its metadata file (e.g. labels).\n",
    "    embedding.metadata_path = LABELS\n",
    "    # Comment out if you don't want sprites\n",
    "#     embedding.sprite.image_path = os.path.join(LOGDIR, 'sprite_4_classes.png')\n",
    "#     embedding.sprite.single_image_dim.extend([img_data.shape[1], img_data.shape[1]])\n",
    "    # Saves a config file that TensorBoard will read during startup.\n",
    "    projector.visualize_embeddings(tf.summary.FileWriter(LOGDIR), config)"
   ]
  }
 ],
 "metadata": {
  "kernelspec": {
   "display_name": "Python 3",
   "language": "python",
   "name": "python3"
  },
  "language_info": {
   "codemirror_mode": {
    "name": "ipython",
    "version": 3
   },
   "file_extension": ".py",
   "mimetype": "text/x-python",
   "name": "python",
   "nbconvert_exporter": "python",
   "pygments_lexer": "ipython3",
   "version": "3.5.2"
  }
 },
 "nbformat": 4,
 "nbformat_minor": 2
}
