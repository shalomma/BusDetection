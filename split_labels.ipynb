{
 "cells": [
  {
   "cell_type": "code",
   "execution_count": 18,
   "metadata": {},
   "outputs": [],
   "source": [
    "import numpy as np\n",
    "import pandas as pd\n",
    "from shutil import copyfile\n",
    "from os\n",
    "np.random.seed(1)"
   ]
  },
  {
   "cell_type": "code",
   "execution_count": null,
   "metadata": {},
   "outputs": [],
   "source": [
    "PATH_TO_FULL_ANNO = 'annotations/'\n",
    "FULL_ANNO = 'bus_labels.csv'\n"
   ]
  },
  {
   "cell_type": "code",
   "execution_count": 3,
   "metadata": {},
   "outputs": [],
   "source": [
    "full_labels = pd.read_csv(os.path.join(PATH_TO_FULL_ANNO, FULL_ANNO))"
   ]
  },
  {
   "cell_type": "code",
   "execution_count": 4,
   "metadata": {},
   "outputs": [
    {
     "data": {
      "text/html": [
       "<div>\n",
       "<style scoped>\n",
       "    .dataframe tbody tr th:only-of-type {\n",
       "        vertical-align: middle;\n",
       "    }\n",
       "\n",
       "    .dataframe tbody tr th {\n",
       "        vertical-align: top;\n",
       "    }\n",
       "\n",
       "    .dataframe thead th {\n",
       "        text-align: right;\n",
       "    }\n",
       "</style>\n",
       "<table border=\"1\" class=\"dataframe\">\n",
       "  <thead>\n",
       "    <tr style=\"text-align: right;\">\n",
       "      <th></th>\n",
       "      <th>filename</th>\n",
       "      <th>width</th>\n",
       "      <th>height</th>\n",
       "      <th>class</th>\n",
       "      <th>xmin</th>\n",
       "      <th>ymin</th>\n",
       "      <th>xmax</th>\n",
       "      <th>ymax</th>\n",
       "    </tr>\n",
       "  </thead>\n",
       "  <tbody>\n",
       "    <tr>\n",
       "      <th>0</th>\n",
       "      <td>DSCF1013.JPG</td>\n",
       "      <td>3648</td>\n",
       "      <td>2736</td>\n",
       "      <td>bus</td>\n",
       "      <td>1217</td>\n",
       "      <td>1690</td>\n",
       "      <td>1706</td>\n",
       "      <td>1891</td>\n",
       "    </tr>\n",
       "    <tr>\n",
       "      <th>1</th>\n",
       "      <td>DSCF1013.JPG</td>\n",
       "      <td>3648</td>\n",
       "      <td>2736</td>\n",
       "      <td>bus</td>\n",
       "      <td>1774</td>\n",
       "      <td>1619</td>\n",
       "      <td>2249</td>\n",
       "      <td>1843</td>\n",
       "    </tr>\n",
       "    <tr>\n",
       "      <th>2</th>\n",
       "      <td>DSCF1013.JPG</td>\n",
       "      <td>3648</td>\n",
       "      <td>2736</td>\n",
       "      <td>bus</td>\n",
       "      <td>2313</td>\n",
       "      <td>1566</td>\n",
       "      <td>2773</td>\n",
       "      <td>1794</td>\n",
       "    </tr>\n",
       "    <tr>\n",
       "      <th>3</th>\n",
       "      <td>DSCF1013.JPG</td>\n",
       "      <td>3648</td>\n",
       "      <td>2736</td>\n",
       "      <td>bus</td>\n",
       "      <td>1284</td>\n",
       "      <td>1832</td>\n",
       "      <td>1781</td>\n",
       "      <td>2063</td>\n",
       "    </tr>\n",
       "    <tr>\n",
       "      <th>4</th>\n",
       "      <td>DSCF1013.JPG</td>\n",
       "      <td>3648</td>\n",
       "      <td>2736</td>\n",
       "      <td>bus</td>\n",
       "      <td>1879</td>\n",
       "      <td>1798</td>\n",
       "      <td>2365</td>\n",
       "      <td>2026</td>\n",
       "    </tr>\n",
       "    <tr>\n",
       "      <th>5</th>\n",
       "      <td>DSCF1013.JPG</td>\n",
       "      <td>3648</td>\n",
       "      <td>2736</td>\n",
       "      <td>bus</td>\n",
       "      <td>2429</td>\n",
       "      <td>1742</td>\n",
       "      <td>2904</td>\n",
       "      <td>1970</td>\n",
       "    </tr>\n",
       "    <tr>\n",
       "      <th>6</th>\n",
       "      <td>DSCF1015.JPG</td>\n",
       "      <td>3648</td>\n",
       "      <td>2736</td>\n",
       "      <td>bus</td>\n",
       "      <td>641</td>\n",
       "      <td>1342</td>\n",
       "      <td>1822</td>\n",
       "      <td>2234</td>\n",
       "    </tr>\n",
       "    <tr>\n",
       "      <th>7</th>\n",
       "      <td>DSCF1015.JPG</td>\n",
       "      <td>3648</td>\n",
       "      <td>2736</td>\n",
       "      <td>bus</td>\n",
       "      <td>2053</td>\n",
       "      <td>1022</td>\n",
       "      <td>3175</td>\n",
       "      <td>1757</td>\n",
       "    </tr>\n",
       "  </tbody>\n",
       "</table>\n",
       "</div>"
      ],
      "text/plain": [
       "       filename  width  height class  xmin  ymin  xmax  ymax\n",
       "0  DSCF1013.JPG   3648    2736   bus  1217  1690  1706  1891\n",
       "1  DSCF1013.JPG   3648    2736   bus  1774  1619  2249  1843\n",
       "2  DSCF1013.JPG   3648    2736   bus  2313  1566  2773  1794\n",
       "3  DSCF1013.JPG   3648    2736   bus  1284  1832  1781  2063\n",
       "4  DSCF1013.JPG   3648    2736   bus  1879  1798  2365  2026\n",
       "5  DSCF1013.JPG   3648    2736   bus  2429  1742  2904  1970\n",
       "6  DSCF1015.JPG   3648    2736   bus   641  1342  1822  2234\n",
       "7  DSCF1015.JPG   3648    2736   bus  2053  1022  3175  1757"
      ]
     },
     "execution_count": 4,
     "metadata": {},
     "output_type": "execute_result"
    }
   ],
   "source": [
    "full_labels.head(8)"
   ]
  },
  {
   "cell_type": "code",
   "execution_count": 5,
   "metadata": {},
   "outputs": [],
   "source": [
    "grouped = full_labels.groupby('filename')"
   ]
  },
  {
   "cell_type": "code",
   "execution_count": 6,
   "metadata": {},
   "outputs": [
    {
     "data": {
      "text/plain": [
       "1    30\n",
       "2    20\n",
       "3     8\n",
       "6     1\n",
       "4     1\n",
       "dtype: int64"
      ]
     },
     "execution_count": 6,
     "metadata": {},
     "output_type": "execute_result"
    }
   ],
   "source": [
    "grouped.apply(lambda x: len(x)).value_counts()"
   ]
  },
  {
   "cell_type": "markdown",
   "metadata": {},
   "source": [
    "### split each file into a group in a list"
   ]
  },
  {
   "cell_type": "code",
   "execution_count": 7,
   "metadata": {},
   "outputs": [],
   "source": [
    "gb = full_labels.groupby('filename')"
   ]
  },
  {
   "cell_type": "code",
   "execution_count": 8,
   "metadata": {},
   "outputs": [],
   "source": [
    "grouped_list = [gb.get_group(x) for x in gb.groups]"
   ]
  },
  {
   "cell_type": "code",
   "execution_count": 9,
   "metadata": {},
   "outputs": [
    {
     "data": {
      "text/plain": [
       "60"
      ]
     },
     "execution_count": 9,
     "metadata": {},
     "output_type": "execute_result"
    }
   ],
   "source": [
    "len(grouped_list)"
   ]
  },
  {
   "cell_type": "code",
   "execution_count": 10,
   "metadata": {},
   "outputs": [],
   "source": [
    "train_index = np.random.choice(len(grouped_list), size=54, replace=False)\n",
    "test_index = np.setdiff1d(list(range(60)), train_index)"
   ]
  },
  {
   "cell_type": "code",
   "execution_count": 11,
   "metadata": {},
   "outputs": [
    {
     "data": {
      "text/plain": [
       "(54, 6)"
      ]
     },
     "execution_count": 11,
     "metadata": {},
     "output_type": "execute_result"
    }
   ],
   "source": [
    "len(train_index), len(test_index)"
   ]
  },
  {
   "cell_type": "code",
   "execution_count": 12,
   "metadata": {},
   "outputs": [],
   "source": [
    "train = pd.concat([grouped_list[i] for i in train_index])\n",
    "test = pd.concat([grouped_list[i] for i in test_index])"
   ]
  },
  {
   "cell_type": "code",
   "execution_count": 13,
   "metadata": {},
   "outputs": [
    {
     "data": {
      "text/plain": [
       "(94, 10)"
      ]
     },
     "execution_count": 13,
     "metadata": {},
     "output_type": "execute_result"
    }
   ],
   "source": [
    "len(train), len(test)"
   ]
  },
  {
   "cell_type": "code",
   "execution_count": 14,
   "metadata": {},
   "outputs": [],
   "source": [
    "train.to_csv('train_labels.csv', index=None)\n",
    "test.to_csv('test_labels.csv', index=None)"
   ]
  },
  {
   "cell_type": "code",
   "execution_count": 22,
   "metadata": {},
   "outputs": [
    {
     "data": {
      "text/plain": [
       "['DSCF1029.JPG',\n",
       " 'DSCF1025.JPG',\n",
       " 'DSCF1105.JPG',\n",
       " 'DSCF1120.JPG',\n",
       " 'DSCF1142.JPG',\n",
       " 'DSCF1015.JPG']"
      ]
     },
     "execution_count": 22,
     "metadata": {},
     "output_type": "execute_result"
    }
   ],
   "source": [
    "list(set(test['filename'].tolist()))"
   ]
  }
 ],
 "metadata": {
  "kernelspec": {
   "display_name": "Python 3",
   "language": "python",
   "name": "python3"
  },
  "language_info": {
   "codemirror_mode": {
    "name": "ipython",
    "version": 3
   },
   "file_extension": ".py",
   "mimetype": "text/x-python",
   "name": "python",
   "nbconvert_exporter": "python",
   "pygments_lexer": "ipython3",
   "version": "3.5.2"
  },
  "widgets": {
   "state": {},
   "version": "1.1.2"
  }
 },
 "nbformat": 4,
 "nbformat_minor": 1
}
