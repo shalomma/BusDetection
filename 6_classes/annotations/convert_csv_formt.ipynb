{
 "cells": [
  {
   "cell_type": "code",
   "execution_count": 16,
   "metadata": {},
   "outputs": [],
   "source": [
    "import pandas as pd\n",
    "import numpy as np"
   ]
  },
  {
   "cell_type": "code",
   "execution_count": 18,
   "metadata": {},
   "outputs": [],
   "source": [
    "df = pd.read_csv('./labels_train.csv')"
   ]
  },
  {
   "cell_type": "code",
   "execution_count": 29,
   "metadata": {},
   "outputs": [
    {
     "data": {
      "text/html": [
       "<div>\n",
       "<style scoped>\n",
       "    .dataframe tbody tr th:only-of-type {\n",
       "        vertical-align: middle;\n",
       "    }\n",
       "\n",
       "    .dataframe tbody tr th {\n",
       "        vertical-align: top;\n",
       "    }\n",
       "\n",
       "    .dataframe thead th {\n",
       "        text-align: right;\n",
       "    }\n",
       "</style>\n",
       "<table border=\"1\" class=\"dataframe\">\n",
       "  <thead>\n",
       "    <tr style=\"text-align: right;\">\n",
       "      <th></th>\n",
       "      <th>file</th>\n",
       "      <th>xmin</th>\n",
       "      <th>ymin</th>\n",
       "      <th>w</th>\n",
       "      <th>h</th>\n",
       "      <th>class</th>\n",
       "      <th>xmax</th>\n",
       "      <th>ymax</th>\n",
       "    </tr>\n",
       "  </thead>\n",
       "  <tbody>\n",
       "    <tr>\n",
       "      <th>0</th>\n",
       "      <td>DSCF1013.JPG</td>\n",
       "      <td>1217</td>\n",
       "      <td>1690</td>\n",
       "      <td>3648</td>\n",
       "      <td>2736</td>\n",
       "      <td>bus</td>\n",
       "      <td>1706</td>\n",
       "      <td>1891</td>\n",
       "    </tr>\n",
       "    <tr>\n",
       "      <th>1</th>\n",
       "      <td>DSCF1013.JPG</td>\n",
       "      <td>1774</td>\n",
       "      <td>1619</td>\n",
       "      <td>3648</td>\n",
       "      <td>2736</td>\n",
       "      <td>bus</td>\n",
       "      <td>2249</td>\n",
       "      <td>1843</td>\n",
       "    </tr>\n",
       "    <tr>\n",
       "      <th>2</th>\n",
       "      <td>DSCF1013.JPG</td>\n",
       "      <td>2313</td>\n",
       "      <td>1566</td>\n",
       "      <td>3648</td>\n",
       "      <td>2736</td>\n",
       "      <td>bus</td>\n",
       "      <td>2773</td>\n",
       "      <td>1794</td>\n",
       "    </tr>\n",
       "    <tr>\n",
       "      <th>3</th>\n",
       "      <td>DSCF1013.JPG</td>\n",
       "      <td>1284</td>\n",
       "      <td>1832</td>\n",
       "      <td>3648</td>\n",
       "      <td>2736</td>\n",
       "      <td>bus</td>\n",
       "      <td>1781</td>\n",
       "      <td>2063</td>\n",
       "    </tr>\n",
       "  </tbody>\n",
       "</table>\n",
       "</div>"
      ],
      "text/plain": [
       "           file  xmin  ymin     w     h class  xmax  ymax\n",
       "0  DSCF1013.JPG  1217  1690  3648  2736   bus  1706  1891\n",
       "1  DSCF1013.JPG  1774  1619  3648  2736   bus  2249  1843\n",
       "2  DSCF1013.JPG  2313  1566  3648  2736   bus  2773  1794\n",
       "3  DSCF1013.JPG  1284  1832  3648  2736   bus  1781  2063"
      ]
     },
     "execution_count": 29,
     "metadata": {},
     "output_type": "execute_result"
    }
   ],
   "source": [
    "df.head(4)"
   ]
  },
  {
   "cell_type": "code",
   "execution_count": 20,
   "metadata": {},
   "outputs": [],
   "source": [
    "df[['xmin','ymin','w','h']] = df[['xmin','ymin','w','h']].astype(np.int64)"
   ]
  },
  {
   "cell_type": "code",
   "execution_count": 22,
   "metadata": {},
   "outputs": [],
   "source": [
    "df[['class']] = 'bus'"
   ]
  },
  {
   "cell_type": "code",
   "execution_count": 26,
   "metadata": {},
   "outputs": [],
   "source": [
    "df['xmax'] = df['xmin'] + df['w']\n",
    "df['ymax'] = df['ymin'] + df['h']"
   ]
  },
  {
   "cell_type": "code",
   "execution_count": 28,
   "metadata": {},
   "outputs": [],
   "source": [
    "df['w'] = 3648\n",
    "df['h'] = 2736"
   ]
  },
  {
   "cell_type": "code",
   "execution_count": 32,
   "metadata": {},
   "outputs": [],
   "source": [
    "df_reorder = df[['file', 'w', 'h', 'class', 'xmin', 'ymin', 'xmax', 'ymax']] # rearrange column here\n",
    "df_reorder.to_csv('./sample_reorder.csv', index=False)"
   ]
  },
  {
   "cell_type": "code",
   "execution_count": 33,
   "metadata": {},
   "outputs": [
    {
     "data": {
      "text/html": [
       "<div>\n",
       "<style scoped>\n",
       "    .dataframe tbody tr th:only-of-type {\n",
       "        vertical-align: middle;\n",
       "    }\n",
       "\n",
       "    .dataframe tbody tr th {\n",
       "        vertical-align: top;\n",
       "    }\n",
       "\n",
       "    .dataframe thead th {\n",
       "        text-align: right;\n",
       "    }\n",
       "</style>\n",
       "<table border=\"1\" class=\"dataframe\">\n",
       "  <thead>\n",
       "    <tr style=\"text-align: right;\">\n",
       "      <th></th>\n",
       "      <th>file</th>\n",
       "      <th>w</th>\n",
       "      <th>h</th>\n",
       "      <th>class</th>\n",
       "      <th>xmin</th>\n",
       "      <th>ymin</th>\n",
       "      <th>xmax</th>\n",
       "      <th>ymax</th>\n",
       "    </tr>\n",
       "  </thead>\n",
       "  <tbody>\n",
       "    <tr>\n",
       "      <th>0</th>\n",
       "      <td>DSCF1013.JPG</td>\n",
       "      <td>3648</td>\n",
       "      <td>2736</td>\n",
       "      <td>bus</td>\n",
       "      <td>1217</td>\n",
       "      <td>1690</td>\n",
       "      <td>1706</td>\n",
       "      <td>1891</td>\n",
       "    </tr>\n",
       "    <tr>\n",
       "      <th>1</th>\n",
       "      <td>DSCF1013.JPG</td>\n",
       "      <td>3648</td>\n",
       "      <td>2736</td>\n",
       "      <td>bus</td>\n",
       "      <td>1774</td>\n",
       "      <td>1619</td>\n",
       "      <td>2249</td>\n",
       "      <td>1843</td>\n",
       "    </tr>\n",
       "    <tr>\n",
       "      <th>2</th>\n",
       "      <td>DSCF1013.JPG</td>\n",
       "      <td>3648</td>\n",
       "      <td>2736</td>\n",
       "      <td>bus</td>\n",
       "      <td>2313</td>\n",
       "      <td>1566</td>\n",
       "      <td>2773</td>\n",
       "      <td>1794</td>\n",
       "    </tr>\n",
       "    <tr>\n",
       "      <th>3</th>\n",
       "      <td>DSCF1013.JPG</td>\n",
       "      <td>3648</td>\n",
       "      <td>2736</td>\n",
       "      <td>bus</td>\n",
       "      <td>1284</td>\n",
       "      <td>1832</td>\n",
       "      <td>1781</td>\n",
       "      <td>2063</td>\n",
       "    </tr>\n",
       "  </tbody>\n",
       "</table>\n",
       "</div>"
      ],
      "text/plain": [
       "           file     w     h class  xmin  ymin  xmax  ymax\n",
       "0  DSCF1013.JPG  3648  2736   bus  1217  1690  1706  1891\n",
       "1  DSCF1013.JPG  3648  2736   bus  1774  1619  2249  1843\n",
       "2  DSCF1013.JPG  3648  2736   bus  2313  1566  2773  1794\n",
       "3  DSCF1013.JPG  3648  2736   bus  1284  1832  1781  2063"
      ]
     },
     "execution_count": 33,
     "metadata": {},
     "output_type": "execute_result"
    }
   ],
   "source": [
    "df_reorder.head(4)"
   ]
  }
 ],
 "metadata": {
  "kernelspec": {
   "display_name": "Python 3",
   "language": "python",
   "name": "python3"
  },
  "language_info": {
   "codemirror_mode": {
    "name": "ipython",
    "version": 3
   },
   "file_extension": ".py",
   "mimetype": "text/x-python",
   "name": "python",
   "nbconvert_exporter": "python",
   "pygments_lexer": "ipython3",
   "version": "3.6.4"
  }
 },
 "nbformat": 4,
 "nbformat_minor": 2
}
